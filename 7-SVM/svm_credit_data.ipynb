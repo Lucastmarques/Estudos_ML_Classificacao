{
 "cells": [
  {
   "cell_type": "markdown",
   "metadata": {},
   "source": [
    "# Aprendizagem por Máquinas de Vetores de Suporte (SVM)\n",
    "\n",
    "A essência desse algoritmo é tentar criar uma linha (parecido com o de regressão logística) que separe perfeitamente os dados, entretanto, esse algoritmo segue o conceito de margem máxima, ou seja, essa linha tem que estar o mais longe possível dos dados mais próximos da linha, criando assim vetores de suporte.\n",
    "\n",
    "Além disso, devemos prestar atenção num conceito de linearidade e não linearidade. Em alguns datasets bem específicos nós conseguimos separar os dados com uma reta, ou seja, esses datasets são considerados lineares. Mas na maioria dos casos isso não acontece. Para tentar tornar possível a criação de uma reta que separe perfeitamente os dados existem alguns métodos que podemos utilizar. Esses métodos são chamados de Kernel, entre eles existem o linear, gaussiano, polinomial e *radial basis*.\n",
    "\n",
    "As formas de melhorar a precisão deste algoritmo consiste em achar o kernel mais adequado e aumentar a **punição por previsões incorretas** no algoritmo através do parâmetro custo (C). Nem sempre um C maior significa uma precisão maior. Ademais, achar um C adequado é fundamental, uma vez que quanto maior esse parâmetro maior o custo computacional também."
   ]
  },
  {
   "cell_type": "code",
   "execution_count": 1,
   "metadata": {},
   "outputs": [],
   "source": [
    "import pandas as pd \n",
    "import numpy as np\n",
    "\n",
    "base = pd.read_csv('credit_data.csv')\n",
    "base.loc[base.age < 0, 'age'] = base['age'].mean()\n",
    "\n",
    "previsores = base.iloc[:, 1:4]\n",
    "classe = base.iloc[:, 4]\n",
    "\n",
    "from sklearn.impute import SimpleImputer\n",
    "imputer = SimpleImputer(missing_values=np.nan, strategy='mean')\n",
    "previsores = imputer.fit_transform(previsores)\n",
    "\n",
    "from sklearn.preprocessing import StandardScaler\n",
    "scaler = StandardScaler()\n",
    "previsores = scaler.fit_transform(previsores)\n",
    "\n",
    "from sklearn.model_selection import train_test_split\n",
    "previsores_treinamento, previsores_teste, classe_treinamento, classe_teste = train_test_split(previsores, classe, test_size=0.25, random_state=0)"
   ]
  },
  {
   "cell_type": "markdown",
   "metadata": {},
   "source": [
    "## Kernel Linear"
   ]
  },
  {
   "cell_type": "code",
   "execution_count": 2,
   "metadata": {},
   "outputs": [
    {
     "output_type": "execute_result",
     "data": {
      "text/plain": "SVC(C=1.0, break_ties=False, cache_size=200, class_weight=None, coef0=0.0,\n    decision_function_shape='ovr', degree=3, gamma='scale', kernel='linear',\n    max_iter=-1, probability=False, random_state=1, shrinking=True, tol=0.001,\n    verbose=False)"
     },
     "metadata": {},
     "execution_count": 2
    }
   ],
   "source": [
    "from sklearn.svm import SVC\n",
    "\n",
    "classificador = SVC(kernel='linear', random_state=1)\n",
    "classificador.fit(previsores_treinamento, classe_treinamento)"
   ]
  },
  {
   "cell_type": "code",
   "execution_count": 3,
   "metadata": {},
   "outputs": [],
   "source": [
    "previsoes = classificador.predict(previsores_teste)"
   ]
  },
  {
   "cell_type": "code",
   "execution_count": 4,
   "metadata": {},
   "outputs": [
    {
     "output_type": "stream",
     "name": "stdout",
     "text": "Precisão:  0.946\n[[422  14]\n [ 13  51]]\n"
    }
   ],
   "source": [
    "from sklearn.metrics import accuracy_score, confusion_matrix\n",
    "precisao = accuracy_score(classe_teste, previsoes)\n",
    "matriz = confusion_matrix(classe_teste, previsoes)\n",
    "print('Precisão: ', precisao)\n",
    "print(matriz)"
   ]
  },
  {
   "cell_type": "markdown",
   "metadata": {},
   "source": [
    "## Kernel Polinomial"
   ]
  },
  {
   "cell_type": "code",
   "execution_count": 5,
   "metadata": {},
   "outputs": [
    {
     "output_type": "stream",
     "name": "stdout",
     "text": "Precisão:  0.968\n[[433   3]\n [ 13  51]]\n"
    }
   ],
   "source": [
    "classificador = SVC(kernel='poly', random_state=1)\n",
    "classificador.fit(previsores_treinamento, classe_treinamento)\n",
    "\n",
    "previsoes = classificador.predict(previsores_teste)\n",
    "\n",
    "precisao = accuracy_score(classe_teste, previsoes)\n",
    "matriz = confusion_matrix(classe_teste, previsoes)\n",
    "print('Precisão: ', precisao)\n",
    "print(matriz)"
   ]
  },
  {
   "cell_type": "markdown",
   "metadata": {},
   "source": [
    "## Kernel Sigmoide ou Gaussian"
   ]
  },
  {
   "cell_type": "code",
   "execution_count": 6,
   "metadata": {},
   "outputs": [
    {
     "output_type": "stream",
     "name": "stdout",
     "text": "Precisão:  0.838\n[[393  43]\n [ 38  26]]\n"
    }
   ],
   "source": [
    "classificador = SVC(kernel='sigmoid', random_state=1)\n",
    "classificador.fit(previsores_treinamento, classe_treinamento)\n",
    "\n",
    "previsoes = classificador.predict(previsores_teste)\n",
    "\n",
    "precisao = accuracy_score(classe_teste, previsoes)\n",
    "matriz = confusion_matrix(classe_teste, previsoes)\n",
    "print('Precisão: ', precisao)\n",
    "print(matriz)"
   ]
  },
  {
   "cell_type": "markdown",
   "metadata": {},
   "source": [
    "# Kernel Radial Basis\n",
    "\n",
    "É o kernel mais utilizado por ser, normalmente, o mais preciso."
   ]
  },
  {
   "cell_type": "code",
   "execution_count": 7,
   "metadata": {},
   "outputs": [
    {
     "output_type": "stream",
     "name": "stdout",
     "text": "Precisão:  0.982\n[[434   2]\n [  7  57]]\n"
    }
   ],
   "source": [
    "classificador = SVC(kernel='rbf', random_state=1) \n",
    "classificador.fit(previsores_treinamento, classe_treinamento)\n",
    "\n",
    "previsoes = classificador.predict(previsores_teste)\n",
    "\n",
    "precisao = accuracy_score(classe_teste, previsoes)\n",
    "matriz = confusion_matrix(classe_teste, previsoes)\n",
    "print('Precisão: ', precisao)\n",
    "print(matriz)"
   ]
  },
  {
   "cell_type": "markdown",
   "metadata": {},
   "source": [
    "Outra coisa que podemos alterar é o custo (C) para tentar aumentar a precisão do algoritmo."
   ]
  },
  {
   "cell_type": "code",
   "execution_count": 8,
   "metadata": {},
   "outputs": [
    {
     "output_type": "stream",
     "name": "stdout",
     "text": "Precisão:  0.988\n[[434   2]\n [  4  60]]\n"
    }
   ],
   "source": [
    "classificador = SVC(C=2.0, kernel='rbf', random_state=1) \n",
    "classificador.fit(previsores_treinamento, classe_treinamento)\n",
    "\n",
    "previsoes = classificador.predict(previsores_teste)\n",
    "\n",
    "precisao = accuracy_score(classe_teste, previsoes)\n",
    "matriz = confusion_matrix(classe_teste, previsoes)\n",
    "print('Precisão: ', precisao)\n",
    "print(matriz)"
   ]
  },
  {
   "cell_type": "markdown",
   "metadata": {},
   "source": [
    "Quanto maior o C, maior o custo computacional. Além disso, podemos perceber que com o C=2 obtivemos um resultado ainda melhor."
   ]
  },
  {
   "cell_type": "code",
   "execution_count": null,
   "metadata": {},
   "outputs": [],
   "source": []
  }
 ],
 "metadata": {
  "language_info": {
   "codemirror_mode": {
    "name": "ipython",
    "version": 3
   },
   "file_extension": ".py",
   "mimetype": "text/x-python",
   "name": "python",
   "nbconvert_exporter": "python",
   "pygments_lexer": "ipython3",
   "version": "3.7.6-final"
  },
  "orig_nbformat": 2,
  "kernelspec": {
   "name": "python3",
   "display_name": "Python 3"
  }
 },
 "nbformat": 4,
 "nbformat_minor": 2
}