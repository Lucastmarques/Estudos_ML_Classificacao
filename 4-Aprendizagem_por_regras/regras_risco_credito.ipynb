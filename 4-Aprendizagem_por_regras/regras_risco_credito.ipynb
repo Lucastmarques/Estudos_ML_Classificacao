{
 "cells": [
  {
   "cell_type": "markdown",
   "metadata": {},
   "source": [
    "# Aprendizagem por Regras"
   ]
  },
  {
   "cell_type": "code",
   "execution_count": 11,
   "metadata": {},
   "outputs": [
    {
     "output_type": "execute_result",
     "data": {
      "text/plain": "[historia, divida, garantias, renda | risco]"
     },
     "metadata": {},
     "execution_count": 11
    }
   ],
   "source": [
    "import Orange\n",
    "### Importando a tabela (i# ignora coluna e c# identifica coluna das classes)\n",
    "base = Orange.data.Table('risco_credito.csv')\n",
    "base.domain"
   ]
  },
  {
   "cell_type": "code",
   "execution_count": 9,
   "metadata": {},
   "outputs": [
    {
     "output_type": "stream",
     "name": "stdout",
     "text": "IF renda==0_15 THEN risco=alto \nIF historia==boa AND divida!=alta THEN risco=baixo \nIF historia==boa AND garantias!=nenhuma THEN risco=baixo \nIF historia==boa AND renda!=15_35 THEN risco=baixo \nIF historia==boa THEN risco=moderado \nIF divida==alta THEN risco=alto \nIF historia!=desconhecida THEN risco=moderado \nIF garantias==adequada THEN risco=baixo \nIF renda==15_35 THEN risco=moderado \nIF historia==desconhecida THEN risco=alto \nIF TRUE THEN risco=alto \n"
    }
   ],
   "source": [
    "### Criando o objeto responsável por criar regras\n",
    "cn2_learner = Orange.classification.rules.CN2Learner()\n",
    "### Gerando as regras\n",
    "classificador = cn2_learner(base)\n",
    "### Visualizando as regras\n",
    "for regras in classificador.rule_list:\n",
    "    print(regras)"
   ]
  },
  {
   "cell_type": "code",
   "execution_count": 10,
   "metadata": {},
   "outputs": [
    {
     "output_type": "stream",
     "name": "stdout",
     "text": "baixo\nalto\n"
    }
   ],
   "source": [
    "# Predição para uma pessoa com histórico bom, dívida alta, garantias nenhuma, renda > 35\n",
    "# Predição para uma pessoa com histórico ruim, dívida alta, garantias adequada, rend < 15\n",
    "resultado = classificador([['boa', 'alta', 'nenhuma', 'acima_35'], ['ruim', 'alta', 'adequada', '0_15']])\n",
    "for i in resultado:\n",
    "    print(base.domain.class_var.values[i])"
   ]
  },
  {
   "cell_type": "code",
   "execution_count": null,
   "metadata": {},
   "outputs": [],
   "source": []
  }
 ],
 "metadata": {
  "language_info": {
   "codemirror_mode": {
    "name": "ipython",
    "version": 3
   },
   "file_extension": ".py",
   "mimetype": "text/x-python",
   "name": "python",
   "nbconvert_exporter": "python",
   "pygments_lexer": "ipython3",
   "version": "3.7.6-final"
  },
  "orig_nbformat": 2,
  "kernelspec": {
   "name": "python3",
   "display_name": "Python 3"
  }
 },
 "nbformat": 4,
 "nbformat_minor": 2
}