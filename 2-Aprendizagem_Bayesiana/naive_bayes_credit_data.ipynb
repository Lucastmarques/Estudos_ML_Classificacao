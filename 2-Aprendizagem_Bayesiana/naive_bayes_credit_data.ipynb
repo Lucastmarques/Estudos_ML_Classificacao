{
 "cells": [
  {
   "cell_type": "markdown",
   "metadata": {},
   "source": [
    "# Aprendizagem Bayesiana"
   ]
  },
  {
   "cell_type": "code",
   "execution_count": 9,
   "metadata": {},
   "outputs": [],
   "source": [
    "import pandas as pd\n",
    "import numpy as np\n",
    "\n",
    "### Importando dataset\n",
    "base = pd.read_csv('credit_data.csv')\n",
    "\n",
    "### Localizando informações ruins\n",
    "base.loc[base['age'] < 0]\n",
    "\n",
    "### Tirando a média dos valores não problemáticos da coluna 'age'\n",
    "base['age'][base.age > 0].mean()\n",
    "### Substituindo os valores problemáticos pelos valores\n",
    "base.loc[base.age < 0, 'age'] = base['age'][base.age > 0].mean()\n",
    "\n",
    "### Verifica os valores nulo e retorna uma array com booleanos True para os que tiverem valores vazios, ou False caso contrário\n",
    "pd.isnull(base['age'])\n",
    "\n",
    "### Retorna os valores vazios em forma de dataframe\n",
    "base.loc[pd.isnull(base['age'])]\n",
    "\n",
    "### Criando previsores (dados utilizados para a predição) e classes (resultado para cada tipo de dado/situação)\n",
    "previsores = base.iloc[:, 1:4].values\n",
    "classe = base.iloc[:, 4].values\n",
    "\n",
    "from sklearn.impute import SimpleImputer\n",
    "\n",
    "### Inicializa o objeto que irá procurar por valores do tipo np.nan e substituir pela média dos valores da respectiva coluna\n",
    "imputer = SimpleImputer(missing_values=np.nan, strategy='mean')\n",
    "### Armazenando adequadamente os dados de previsores em imputer\n",
    "imputer = imputer.fit(previsores[:, 0:3])\n",
    "### Armazenando a média dos valores nos valores vazios\n",
    "previsores[:, 0:3] = imputer.transform(previsores[:,0:3])\n",
    "\n",
    "from sklearn.preprocessing import StandardScaler\n",
    "\n",
    "scaler = StandardScaler()\n",
    "### Padronizando todos os valores por meio da fórmula y=x-xm/xm, sendo xm a média dos valores de x \n",
    "previsores = scaler.fit_transform(previsores)\n",
    "\n",
    "from sklearn.model_selection import train_test_split\n",
    "\n",
    "### Realizando a separação da base de dados em treinamento e teste, dividindo na proporção de 75% e 25% respectivamente.\n",
    "## test_size não deve ser maior que 0,30 (30% base teste, 70% base treinamento)\n",
    "previsores_treinamento, previsores_teste, classe_treinamento, classe_teste = train_test_split(previsores, classe, test_size=0.25, random_state=0)"
   ]
  },
  {
   "cell_type": "markdown",
   "metadata": {},
   "source": [
    "## Aplicando o Algoritmo de Naive Bayes"
   ]
  },
  {
   "cell_type": "code",
   "execution_count": 10,
   "metadata": {},
   "outputs": [
    {
     "output_type": "stream",
     "name": "stdout",
     "text": "Precisão:  0.938\n"
    },
    {
     "output_type": "execute_result",
     "data": {
      "text/plain": "array([[428,   8],\n       [ 23,  41]], dtype=int64)"
     },
     "metadata": {},
     "execution_count": 10
    }
   ],
   "source": [
    "from sklearn.naive_bayes import GaussianNB\n",
    "\n",
    "classificador = GaussianNB()\n",
    "### Treinando a máquina com os dados de treinamento\n",
    "classificador.fit(previsores_treinamento, classe_treinamento)\n",
    "\n",
    "### Fazendo as previsões e armazenando em previsoes\n",
    "previsoes = classificador.predict(previsores_teste)\n",
    "\n",
    "### Comparando as previsões com o resultado real\n",
    "from sklearn.metrics import confusion_matrix, accuracy_score\n",
    "precisao = accuracy_score(classe_teste, previsoes)\n",
    "print(\"Precisão: \", precisao)\n",
    "matriz = confusion_matrix(classe_teste, previsoes)\n",
    "matriz"
   ]
  },
  {
   "cell_type": "code",
   "execution_count": null,
   "metadata": {},
   "outputs": [],
   "source": []
  }
 ],
 "metadata": {
  "language_info": {
   "codemirror_mode": {
    "name": "ipython",
    "version": 3
   },
   "file_extension": ".py",
   "mimetype": "text/x-python",
   "name": "python",
   "nbconvert_exporter": "python",
   "pygments_lexer": "ipython3",
   "version": "3.7.6-final"
  },
  "orig_nbformat": 2,
  "kernelspec": {
   "name": "python3",
   "display_name": "Python 3"
  }
 },
 "nbformat": 4,
 "nbformat_minor": 2
}