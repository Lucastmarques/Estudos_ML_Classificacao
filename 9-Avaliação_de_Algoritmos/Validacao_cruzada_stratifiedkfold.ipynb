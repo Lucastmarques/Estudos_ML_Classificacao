{
 "cells": [
  {
   "cell_type": "code",
   "execution_count": 4,
   "metadata": {},
   "outputs": [],
   "source": [
    "import pandas as pd \n",
    "import numpy as np\n",
    "\n",
    "base = pd.read_csv('credit_data.csv')\n",
    "base.loc[base.age < 0, 'age'] = 40.92\n",
    "\n",
    "previsores = base.iloc[:, 1:4].values\n",
    "classe = base.iloc[:, 4].values\n",
    "\n",
    "from sklearn.impute import SimpleImputer\n",
    "imputer = SimpleImputer(missing_values=np.nan, strategy='mean')\n",
    "previsores[:, 1:4] = imputer.fit_transform(previsores[:, 1:4])\n",
    "\n",
    "from sklearn.preprocessing import StandardScaler\n",
    "scaler = StandardScaler()\n",
    "previsores[:, 1:4] = scaler.fit_transform(previsores[:, 1:4])"
   ]
  },
  {
   "cell_type": "code",
   "execution_count": 5,
   "metadata": {},
   "outputs": [
    {
     "output_type": "stream",
     "name": "stdout",
     "text": "0.9174999999999999\n[[170.1   1.6]\n [ 14.9  13.4]]\n"
    }
   ],
   "source": [
    "from sklearn.model_selection import StratifiedKFold\n",
    "from sklearn.naive_bayes import GaussianNB\n",
    "from sklearn.metrics import accuracy_score,confusion_matrix\n",
    "\n",
    "kfold = StratifiedKFold(n_splits=10, shuffle=True, random_state=1)\n",
    "\n",
    "resultados = []\n",
    "matrizes = []\n",
    "\n",
    "for indice_treinamento, indice_teste in kfold.split(previsores, classe):\n",
    "\n",
    "    classificador = GaussianNB()\n",
    "    classificador.fit(previsores[indice_treinamento], classe[indice_treinamento])\n",
    "    previsoes = classificador.predict(previsores[indice_teste])\n",
    "    precisao = accuracy_score(classe[indice_teste], previsoes)\n",
    "    resultados.append(precisao)\n",
    "    matrizes.append(confusion_matrix(classe[indice_teste], previsoes))\n",
    "\n",
    "resultados = np.asarray(resultados)\n",
    "print(resultados.mean())\n",
    "matriz_final = np.mean(matrizes, axis=0)\n",
    "print(matriz_final)"
   ]
  },
  {
   "cell_type": "code",
   "execution_count": null,
   "metadata": {},
   "outputs": [],
   "source": []
  }
 ],
 "metadata": {
  "language_info": {
   "codemirror_mode": {
    "name": "ipython",
    "version": 3
   },
   "file_extension": ".py",
   "mimetype": "text/x-python",
   "name": "python",
   "nbconvert_exporter": "python",
   "pygments_lexer": "ipython3",
   "version": "3.7.6-final"
  },
  "orig_nbformat": 2,
  "kernelspec": {
   "name": "python3",
   "display_name": "Python 3"
  }
 },
 "nbformat": 4,
 "nbformat_minor": 2
}