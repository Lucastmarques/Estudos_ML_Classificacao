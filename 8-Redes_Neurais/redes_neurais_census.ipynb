{
 "cells": [
  {
   "cell_type": "markdown",
   "metadata": {},
   "source": [
    "# Redes Neurais Scikit-Learn\n",
    "\n",
    "Um ponto importante para ser discutido nesse notebook, é que o sklearn, por ser uma biblioteca mais abrangente, pode não apredentar resultado esperados para esse tipo de algoritmo. Ainda assim, ela se mostar uma ótima biblioteca, uma vez que automatiza quase todo processo de criação e treinamento da rede neural, resumindo o código a poucas linhas. Além disso, vale a pena fazer os testes com os diferentes tipos de pré-processamento, sempre utilizando o escalonamento e labelencoder para gerar um resultado melhor. Além disso, o scikit learn define automaticamente a função utilizada na saída de acordo com o número de classes diferentes que estamos utilizando. Se forem duas classes => logístico, se forem mais classes => SoftmaxLayer.\n",
    "\n",
    "Algumas considerações sobre as funções de ativação:\n",
    "\n",
    "I. Uma função de ativação é utilizada para transmitir a informação de uma camada para outra ou para obter a resposta final na rede neural;\n",
    "\n",
    "II. A $função$ $degrau$ ($step function$) só pode ser utilizada para problemas linearmente separáveis;\n",
    "\n",
    "III. A função $sigmoide$ é aplicável para problemas de classificação, principalmente quando existem duas classes a serem previstas;\n",
    "\n",
    "IV. A função $softmax$ deve ser utilizada em problemas de classificação nos quais várias classes estão presentes;\n",
    "\n",
    "V. A função $relu$ atribui o valor zero quando o parâmetro recebido é negativo;"
   ]
  },
  {
   "cell_type": "code",
   "execution_count": 1,
   "metadata": {},
   "outputs": [],
   "source": [
    "import pandas as pd \n",
    "\n",
    "base = pd.read_csv('census.csv')\n",
    "previsores = base.iloc[:, 0:14].values\n",
    "classe = base.iloc[:, 14].values\n",
    "\n",
    "from sklearn.preprocessing import LabelEncoder, OneHotEncoder\n",
    "labelencoder = LabelEncoder()\n",
    "previsores[:, 1] = labelencoder.fit_transform(previsores[:, 1])\n",
    "previsores[:, 3] = labelencoder.fit_transform(previsores[:, 3])\n",
    "previsores[:, 5] = labelencoder.fit_transform(previsores[:, 5])\n",
    "previsores[:, 6] = labelencoder.fit_transform(previsores[:, 6])\n",
    "previsores[:, 7] = labelencoder.fit_transform(previsores[:, 7])\n",
    "previsores[:, 8] = labelencoder.fit_transform(previsores[:, 8])\n",
    "previsores[:, 9] = labelencoder.fit_transform(previsores[:, 9])\n",
    "previsores[:, 13] = labelencoder.fit_transform(previsores[:, 13])\n",
    "\n",
    "from sklearn.compose import ColumnTransformer\n",
    "onehotencorder = ColumnTransformer(transformers=[(\"OneHot\", OneHotEncoder(), [1,3,5,6,7,8,9,13])], remainder='passthrough')\n",
    "previsores = onehotencorder.fit_transform(previsores).toarray()\n",
    "\n",
    "from sklearn.preprocessing import StandardScaler\n",
    "scaler = StandardScaler()\n",
    "previsores = scaler.fit_transform(previsores)\n",
    "\n",
    "from sklearn.model_selection import train_test_split\n",
    "previsores_treinamento, previsores_teste, classe_treinamento, classe_teste = train_test_split(previsores, classe, random_state=0)"
   ]
  },
  {
   "cell_type": "code",
   "execution_count": 2,
   "metadata": {},
   "outputs": [
    {
     "output_type": "stream",
     "name": "stdout",
     "text": "Iteration 1, loss = 0.37913183\nIteration 2, loss = 0.32782112\nIteration 3, loss = 0.31758637\nIteration 4, loss = 0.31084346\nIteration 5, loss = 0.30610040\nIteration 6, loss = 0.30290723\nIteration 7, loss = 0.30009805\nIteration 8, loss = 0.29681160\nIteration 9, loss = 0.29462532\nIteration 10, loss = 0.29228266\nIteration 11, loss = 0.29035333\nIteration 12, loss = 0.28919734\nIteration 13, loss = 0.28687756\nIteration 14, loss = 0.28520672\nIteration 15, loss = 0.28358453\nIteration 16, loss = 0.28226092\nIteration 17, loss = 0.28123966\nIteration 18, loss = 0.27942438\nIteration 19, loss = 0.27848848\nIteration 20, loss = 0.27716225\nIteration 21, loss = 0.27549086\nIteration 22, loss = 0.27491468\nIteration 23, loss = 0.27394905\nIteration 24, loss = 0.27210154\nIteration 25, loss = 0.27102113\nIteration 26, loss = 0.27017518\nIteration 27, loss = 0.27051900\nIteration 28, loss = 0.26812828\nIteration 29, loss = 0.26813863\nIteration 30, loss = 0.26653412\nIteration 31, loss = 0.26564130\nIteration 32, loss = 0.26523836\nIteration 33, loss = 0.26452729\nIteration 34, loss = 0.26310646\nIteration 35, loss = 0.26291447\nIteration 36, loss = 0.26227676\nIteration 37, loss = 0.26136014\nIteration 38, loss = 0.26116845\nIteration 39, loss = 0.25975685\nIteration 40, loss = 0.25903762\nIteration 41, loss = 0.25780398\nIteration 42, loss = 0.25798703\nIteration 43, loss = 0.25806946\nIteration 44, loss = 0.25658869\nIteration 45, loss = 0.25609471\nIteration 46, loss = 0.25535426\nIteration 47, loss = 0.25524711\nIteration 48, loss = 0.25386669\nIteration 49, loss = 0.25292432\nIteration 50, loss = 0.25199771\nIteration 51, loss = 0.25227519\nIteration 52, loss = 0.25144806\nIteration 53, loss = 0.25096598\nIteration 54, loss = 0.24989172\nIteration 55, loss = 0.25108691\nIteration 56, loss = 0.24929908\nIteration 57, loss = 0.24943358\nIteration 58, loss = 0.24755723\nIteration 59, loss = 0.24687752\nIteration 60, loss = 0.24665635\nIteration 61, loss = 0.24702870\nIteration 62, loss = 0.24584928\nIteration 63, loss = 0.24557358\nIteration 64, loss = 0.24511437\nIteration 65, loss = 0.24461184\nIteration 66, loss = 0.24396129\nIteration 67, loss = 0.24393089\nIteration 68, loss = 0.24409005\nIteration 69, loss = 0.24198837\nIteration 70, loss = 0.24295843\nIteration 71, loss = 0.24188706\nIteration 72, loss = 0.24250199\nIteration 73, loss = 0.23986555\nIteration 74, loss = 0.24022983\nIteration 75, loss = 0.23997798\nIteration 76, loss = 0.24040176\nIteration 77, loss = 0.24020147\nIteration 78, loss = 0.23890338\nIteration 79, loss = 0.23843724\nIteration 80, loss = 0.23852408\nIteration 81, loss = 0.23832670\nIteration 82, loss = 0.23803642\nIteration 83, loss = 0.23783907\nIteration 84, loss = 0.23565940\nIteration 85, loss = 0.23464616\nIteration 86, loss = 0.23563657\nIteration 87, loss = 0.23488996\nIteration 88, loss = 0.23499676\nIteration 89, loss = 0.23348461\nIteration 90, loss = 0.23402754\nIteration 91, loss = 0.23301771\nIteration 92, loss = 0.23284568\nIteration 93, loss = 0.23329252\nIteration 94, loss = 0.23231940\nIteration 95, loss = 0.23135971\nIteration 96, loss = 0.23246073\nIteration 97, loss = 0.23114776\nIteration 98, loss = 0.23260941\nIteration 99, loss = 0.23220463\nIteration 100, loss = 0.22924394\nIteration 101, loss = 0.22931649\nIteration 102, loss = 0.22874139\nIteration 103, loss = 0.22954852\nIteration 104, loss = 0.23013481\nIteration 105, loss = 0.22864149\nIteration 106, loss = 0.22716600\nIteration 107, loss = 0.22756946\nIteration 108, loss = 0.22742345\nIteration 109, loss = 0.22778324\nIteration 110, loss = 0.22767033\nIteration 111, loss = 0.22712270\nIteration 112, loss = 0.22646938\nIteration 113, loss = 0.22645402\nIteration 114, loss = 0.22487151\nIteration 115, loss = 0.22608672\nIteration 116, loss = 0.22413504\nIteration 117, loss = 0.22436308\nIteration 118, loss = 0.22400605\nIteration 119, loss = 0.22408440\nIteration 120, loss = 0.22331541\nIteration 121, loss = 0.22323185\nIteration 122, loss = 0.22254118\nIteration 123, loss = 0.22332461\nIteration 124, loss = 0.22201047\nIteration 125, loss = 0.22359516\nIteration 126, loss = 0.22167544\nIteration 127, loss = 0.22218597\nIteration 128, loss = 0.22272707\nIteration 129, loss = 0.22006571\nIteration 130, loss = 0.22126958\nIteration 131, loss = 0.22096038\nIteration 132, loss = 0.21957262\nIteration 133, loss = 0.22108018\nIteration 134, loss = 0.22058044\nIteration 135, loss = 0.21942984\nIteration 136, loss = 0.22053696\nIteration 137, loss = 0.21901576\nIteration 138, loss = 0.21830899\nIteration 139, loss = 0.21864211\nIteration 140, loss = 0.21754418\nIteration 141, loss = 0.21702058\nIteration 142, loss = 0.21767673\nIteration 143, loss = 0.21746032\nIteration 144, loss = 0.21808542\nIteration 145, loss = 0.21624980\nIteration 146, loss = 0.21827024\nIteration 147, loss = 0.22092394\nIteration 148, loss = 0.21607982\nIteration 149, loss = 0.21557473\nIteration 150, loss = 0.21636433\nIteration 151, loss = 0.21526301\nIteration 152, loss = 0.21448759\nIteration 153, loss = 0.21420196\nIteration 154, loss = 0.21605977\nIteration 155, loss = 0.21472045\nIteration 156, loss = 0.21455416\nIteration 157, loss = 0.21234707\nIteration 158, loss = 0.21374354\nIteration 159, loss = 0.21317229\nIteration 160, loss = 0.21450815\nIteration 161, loss = 0.21357559\nIteration 162, loss = 0.21276975\nIteration 163, loss = 0.21173743\nIteration 164, loss = 0.21313165\nIteration 165, loss = 0.21265126\nIteration 166, loss = 0.21218998\nIteration 167, loss = 0.21169749\nIteration 168, loss = 0.21087561\nIteration 169, loss = 0.21033823\nIteration 170, loss = 0.21176563\nIteration 171, loss = 0.21110210\nIteration 172, loss = 0.20997289\nIteration 173, loss = 0.20958317\nIteration 174, loss = 0.21040164\nIteration 175, loss = 0.20975392\nIteration 176, loss = 0.20984821\nIteration 177, loss = 0.20920035\nIteration 178, loss = 0.20993754\nIteration 179, loss = 0.20791510\nIteration 180, loss = 0.20958361\nIteration 181, loss = 0.20910805\nIteration 182, loss = 0.20730682\nIteration 183, loss = 0.20690774\nIteration 184, loss = 0.20628851\nIteration 185, loss = 0.20695789\nIteration 186, loss = 0.20970944\nIteration 187, loss = 0.20792378\nIteration 188, loss = 0.20820569\nIteration 189, loss = 0.20618672\nIteration 190, loss = 0.20948187\nIteration 191, loss = 0.20503320\nIteration 192, loss = 0.20549452\nIteration 193, loss = 0.20541779\nIteration 194, loss = 0.20439421\nIteration 195, loss = 0.20719551\nIteration 196, loss = 0.20452901\nIteration 197, loss = 0.20500204\nIteration 198, loss = 0.20385580\nIteration 199, loss = 0.20538900\nIteration 200, loss = 0.20415540\nIteration 201, loss = 0.20456113\nIteration 202, loss = 0.20328999\nIteration 203, loss = 0.20390388\nIteration 204, loss = 0.20369834\nIteration 205, loss = 0.20227654\nIteration 206, loss = 0.20373281\nIteration 207, loss = 0.20263530\nIteration 208, loss = 0.20221549\nIteration 209, loss = 0.20222376\nIteration 210, loss = 0.20166385\nIteration 211, loss = 0.20101695\nIteration 212, loss = 0.20120950\nIteration 213, loss = 0.20418335\nIteration 214, loss = 0.20248119\nIteration 215, loss = 0.20154918\nIteration 216, loss = 0.20121566\nIteration 217, loss = 0.20166892\nIteration 218, loss = 0.20091818\nIteration 219, loss = 0.20063569\nIteration 220, loss = 0.19951047\nIteration 221, loss = 0.20023557\nIteration 222, loss = 0.19923869\nIteration 223, loss = 0.19843246\nIteration 224, loss = 0.19974778\nIteration 225, loss = 0.20211895\nIteration 226, loss = 0.19980869\nIteration 227, loss = 0.19958409\nIteration 228, loss = 0.19921926\nIteration 229, loss = 0.19836162\nIteration 230, loss = 0.19696256\nIteration 231, loss = 0.19914454\nIteration 232, loss = 0.19645057\nIteration 233, loss = 0.19784896\nIteration 234, loss = 0.19786767\nIteration 235, loss = 0.19745046\nIteration 236, loss = 0.19884492\nIteration 237, loss = 0.19747486\nIteration 238, loss = 0.19670365\nIteration 239, loss = 0.19743028\nIteration 240, loss = 0.19882042\nIteration 241, loss = 0.19836870\nIteration 242, loss = 0.19805058\nIteration 243, loss = 0.19595466\nIteration 244, loss = 0.19690000\nIteration 245, loss = 0.19683588\nIteration 246, loss = 0.19611326\nIteration 247, loss = 0.20110426\nIteration 248, loss = 0.19672847\nIteration 249, loss = 0.19560518\nIteration 250, loss = 0.19373759\nIteration 251, loss = 0.19387342\nIteration 252, loss = 0.19576200\nIteration 253, loss = 0.19320425\nIteration 254, loss = 0.19585864\nIteration 255, loss = 0.19577313\nIteration 256, loss = 0.19349894\nIteration 257, loss = 0.19464625\nIteration 258, loss = 0.19411413\nIteration 259, loss = 0.19584866\nIteration 260, loss = 0.19289705\nIteration 261, loss = 0.19455588\nIteration 262, loss = 0.19389885\nIteration 263, loss = 0.19374104\nIteration 264, loss = 0.19406656\nIteration 265, loss = 0.19262969\nIteration 266, loss = 0.19430994\nIteration 267, loss = 0.19209177\nIteration 268, loss = 0.19185705\nIteration 269, loss = 0.19414424\nIteration 270, loss = 0.19319779\nIteration 271, loss = 0.19434827\nIteration 272, loss = 0.19151013\nIteration 273, loss = 0.19102745\nIteration 274, loss = 0.19189214\nIteration 275, loss = 0.19225987\nIteration 276, loss = 0.19332701\nIteration 277, loss = 0.19466525\nIteration 278, loss = 0.19354290\nIteration 279, loss = 0.19146383\nIteration 280, loss = 0.19030813\nIteration 281, loss = 0.19151771\nIteration 282, loss = 0.19028167\nIteration 283, loss = 0.19112688\nIteration 284, loss = 0.19075601\nIteration 285, loss = 0.19151017\nIteration 286, loss = 0.19095187\nIteration 287, loss = 0.19050911\nIteration 288, loss = 0.19195087\nIteration 289, loss = 0.19089630\nIteration 290, loss = 0.18858372\nIteration 291, loss = 0.18984319\nIteration 292, loss = 0.18859756\nIteration 293, loss = 0.18856834\nIteration 294, loss = 0.19091519\nIteration 295, loss = 0.19076586\nIteration 296, loss = 0.19080642\nIteration 297, loss = 0.18905089\nIteration 298, loss = 0.19131571\nIteration 299, loss = 0.18764233\nIteration 300, loss = 0.18971287\nIteration 301, loss = 0.18916758\nIteration 302, loss = 0.18819347\nIteration 303, loss = 0.18794673\nIteration 304, loss = 0.18761794\nIteration 305, loss = 0.18880668\nIteration 306, loss = 0.18941313\nIteration 307, loss = 0.18754899\nIteration 308, loss = 0.18817467\nIteration 309, loss = 0.18798856\nIteration 310, loss = 0.18873811\nIteration 311, loss = 0.18828661\nIteration 312, loss = 0.18778849\nIteration 313, loss = 0.18693559\nIteration 314, loss = 0.18722195\nIteration 315, loss = 0.18826864\nIteration 316, loss = 0.18839048\nIteration 317, loss = 0.18619727\nIteration 318, loss = 0.18700172\nIteration 319, loss = 0.18677306\nIteration 320, loss = 0.18571879\nIteration 321, loss = 0.18744230\nIteration 322, loss = 0.18532560\nIteration 323, loss = 0.18778451\nIteration 324, loss = 0.18854777\nIteration 325, loss = 0.18715681\nIteration 326, loss = 0.18552685\nIteration 327, loss = 0.18646352\nIteration 328, loss = 0.18525682\nIteration 329, loss = 0.18488039\nIteration 330, loss = 0.18441798\nIteration 331, loss = 0.18511468\nIteration 332, loss = 0.18619900\nIteration 333, loss = 0.18518697\nIteration 334, loss = 0.18562447\nIteration 335, loss = 0.18520379\nIteration 336, loss = 0.18426307\nIteration 337, loss = 0.18641071\nIteration 338, loss = 0.18364720\nIteration 339, loss = 0.18387180\nIteration 340, loss = 0.18457537\nIteration 341, loss = 0.18421611\nIteration 342, loss = 0.18366253\nIteration 343, loss = 0.18489406\nIteration 344, loss = 0.18405875\nIteration 345, loss = 0.18397558\nIteration 346, loss = 0.18293333\nIteration 347, loss = 0.18544851\nIteration 348, loss = 0.18420215\nIteration 349, loss = 0.18436986\nIteration 350, loss = 0.18346097\nIteration 351, loss = 0.18385670\nIteration 352, loss = 0.18224096\nIteration 353, loss = 0.18338511\nIteration 354, loss = 0.18221168\nIteration 355, loss = 0.18245175\nIteration 356, loss = 0.18293322\nIteration 357, loss = 0.18362527\nIteration 358, loss = 0.18276726\nIteration 359, loss = 0.18289254\nIteration 360, loss = 0.18268214\nIteration 361, loss = 0.18200748\nIteration 362, loss = 0.18320467\nIteration 363, loss = 0.18238207\nIteration 364, loss = 0.18171985\nIteration 365, loss = 0.18444198\nIteration 366, loss = 0.18324300\nIteration 367, loss = 0.18126729\nIteration 368, loss = 0.18026188\nIteration 369, loss = 0.18151089\nIteration 370, loss = 0.18148878\nIteration 371, loss = 0.18294504\nIteration 372, loss = 0.18261432\nIteration 373, loss = 0.18170283\nIteration 374, loss = 0.18126411\nIteration 375, loss = 0.18054064\nIteration 376, loss = 0.18086774\nIteration 377, loss = 0.17980428\nIteration 378, loss = 0.18098724\nIteration 379, loss = 0.18008355\nIteration 380, loss = 0.18100913\nIteration 381, loss = 0.18621537\nIteration 382, loss = 0.18065136\nIteration 383, loss = 0.18130354\nIteration 384, loss = 0.17935009\nIteration 385, loss = 0.18041638\nIteration 386, loss = 0.17984511\nIteration 387, loss = 0.17788222\nIteration 388, loss = 0.18204371\nIteration 389, loss = 0.18212201\nIteration 390, loss = 0.17882852\nIteration 391, loss = 0.17997731\nIteration 392, loss = 0.17867357\nIteration 393, loss = 0.17886264\nIteration 394, loss = 0.17879923\nIteration 395, loss = 0.17914988\nIteration 396, loss = 0.17891888\nIteration 397, loss = 0.17885031\nIteration 398, loss = 0.17815133\nTraining loss did not improve more than tol=0.000010 for 10 consecutive epochs. Stopping.\n"
    },
    {
     "output_type": "execute_result",
     "data": {
      "text/plain": "MLPClassifier(activation='relu', alpha=0.0001, batch_size='auto', beta_1=0.9,\n              beta_2=0.999, early_stopping=False, epsilon=1e-08,\n              hidden_layer_sizes=(100,), learning_rate='constant',\n              learning_rate_init=0.001, max_fun=15000, max_iter=1000,\n              momentum=0.9, n_iter_no_change=10, nesterovs_momentum=True,\n              power_t=0.5, random_state=None, shuffle=True, solver='adam',\n              tol=1e-05, validation_fraction=0.1, verbose=True,\n              warm_start=False)"
     },
     "metadata": {},
     "execution_count": 2
    }
   ],
   "source": [
    "from sklearn.neural_network import MLPClassifier\n",
    "classificador = MLPClassifier(verbose=True,\n",
    "                              max_iter=1000,\n",
    "                              tol=0.000010)\n",
    "\n",
    "classificador.fit(previsores_treinamento, classe_treinamento)"
   ]
  },
  {
   "cell_type": "code",
   "execution_count": 3,
   "metadata": {},
   "outputs": [],
   "source": [
    "previsoes = classificador.predict(previsores_teste)"
   ]
  },
  {
   "cell_type": "code",
   "execution_count": 4,
   "metadata": {},
   "outputs": [
    {
     "output_type": "stream",
     "name": "stdout",
     "text": "Precisão: 0.8244687384842156\n[[5493  666]\n [ 763 1219]]\n"
    }
   ],
   "source": [
    "from sklearn.metrics import accuracy_score, confusion_matrix\n",
    "precisao = accuracy_score(classe_teste, previsoes)\n",
    "matriz = confusion_matrix(classe_teste, previsoes)\n",
    "print('Precisão: ', precisao)\n",
    "print(matriz)"
   ]
  },
  {
   "cell_type": "code",
   "execution_count": null,
   "metadata": {},
   "outputs": [],
   "source": []
  }
 ],
 "metadata": {
  "language_info": {
   "codemirror_mode": {
    "name": "ipython",
    "version": 3
   },
   "file_extension": ".py",
   "mimetype": "text/x-python",
   "name": "python",
   "nbconvert_exporter": "python",
   "pygments_lexer": "ipython3",
   "version": "3.7.6-final"
  },
  "orig_nbformat": 2,
  "kernelspec": {
   "name": "python3",
   "display_name": "Python 3"
  }
 },
 "nbformat": 4,
 "nbformat_minor": 2
}