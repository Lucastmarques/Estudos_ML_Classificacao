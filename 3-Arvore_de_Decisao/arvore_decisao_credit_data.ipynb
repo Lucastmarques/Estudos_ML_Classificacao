{
 "cells": [
  {
   "cell_type": "markdown",
   "metadata": {},
   "source": [
    "## Aprendizagem com padronização e sem Ensemble Learning"
   ]
  },
  {
   "cell_type": "code",
   "execution_count": 10,
   "metadata": {},
   "outputs": [],
   "source": [
    "import pandas as pd\n",
    "import numpy as np\n",
    "\n",
    "base = pd.read_csv('credit_data.csv')\n",
    "base.loc[base.age < 0, 'age'] = 40.92\n",
    "               \n",
    "previsores = base.iloc[:, 1:4].values\n",
    "classe = base.iloc[:, 4].values\n",
    "\n",
    "from sklearn.impute import SimpleImputer\n",
    "imputer = SimpleImputer(missing_values = np.nan, strategy = 'mean')\n",
    "imputer = imputer.fit(previsores[:, 1:4])\n",
    "previsores[:, 1:4] = imputer.transform(previsores[:, 1:4])\n",
    "\n",
    "from sklearn.preprocessing import StandardScaler\n",
    "scaler = StandardScaler()\n",
    "previsores = scaler.fit_transform(previsores)\n",
    "\n",
    "from sklearn.model_selection import train_test_split\n",
    "previsores_treinamento, previsores_teste, classe_treinamento, classe_teste = train_test_split(previsores, classe, test_size=0.25, random_state=0)\n",
    "\n",
    "\n",
    "### Importando o classificador da ávore de decisão\n",
    "from sklearn.tree import DecisionTreeClassifier, export\n",
    "### Inicializando o classificador passando como o critério o grau de entropia\n",
    "classificador = DecisionTreeClassifier(criterion='entropy', random_state=0)\n",
    "### Encaixando as informações de treinamento\n",
    "classificador.fit(previsores_treinamento, classe_treinamento)\n",
    "### Fazendo as previsões com os nossos previsores de teste\n",
    "previsoes = classificador.predict(previsores_teste)\n",
    "\n",
    "### Importando bibliotecas para medir o grau de acertividade\n",
    "from sklearn.metrics import confusion_matrix, accuracy_score\n",
    "### Medindo a precisão da nossa aprendizagem\n",
    "precisao = accuracy_score(classe_teste, previsoes)\n",
    "### Gerando a matriz de confusão\n",
    "matriz = confusion_matrix(classe_teste, previsoes)\n",
    "\n",
    "### Exportando a árvore de decisão como arquivo .dot\n",
    "export.export_graphviz(classificador,\n",
    "                        out_file = 'arvore_credit_data.dot',\n",
    "                        feature_names = ['salario', 'idade', 'emprestimo'],\n",
    "                        class_names = ['alto', 'baixo'],\n",
    "                        filled = True,\n",
    "                        leaves_parallel = True)"
   ]
  },
  {
   "cell_type": "code",
   "execution_count": 11,
   "metadata": {},
   "outputs": [
    {
     "output_type": "stream",
     "name": "stdout",
     "text": "Precisão de 98.2%\n"
    },
    {
     "output_type": "execute_result",
     "data": {
      "text/plain": "array([[430,   6],\n       [  3,  61]], dtype=int64)"
     },
     "metadata": {},
     "execution_count": 11
    }
   ],
   "source": [
    "print(\"Precisão de {}%\".format(round(precisao*100, 5)))\n",
    "matriz"
   ]
  },
  {
   "cell_type": "markdown",
   "metadata": {},
   "source": [
    "## Aprendizagem sem Ensemble Learning e sem Padronização"
   ]
  },
  {
   "cell_type": "code",
   "execution_count": 12,
   "metadata": {},
   "outputs": [
    {
     "output_type": "stream",
     "name": "stdout",
     "text": "Precisão de 98.2%\n"
    },
    {
     "output_type": "execute_result",
     "data": {
      "text/plain": "array([[430,   6],\n       [  3,  61]], dtype=int64)"
     },
     "metadata": {},
     "execution_count": 12
    }
   ],
   "source": [
    "import pandas as pd\n",
    "import numpy as np\n",
    "\n",
    "base = pd.read_csv('credit_data.csv')\n",
    "base.loc[base.age < 0, 'age'] = 40.92\n",
    "               \n",
    "previsores = base.iloc[:, 1:4].values\n",
    "classe = base.iloc[:, 4].values\n",
    "\n",
    "from sklearn.impute import SimpleImputer\n",
    "imputer = SimpleImputer(missing_values = np.nan, strategy = 'mean')\n",
    "imputer = imputer.fit(previsores[:, 1:4])\n",
    "previsores[:, 1:4] = imputer.transform(previsores[:, 1:4])\n",
    "\n",
    "from sklearn.model_selection import train_test_split\n",
    "previsores_treinamento, previsores_teste, classe_treinamento, classe_teste = train_test_split(previsores, classe, test_size=0.25, random_state=0)\n",
    "\n",
    "from sklearn.tree import DecisionTreeClassifier\n",
    "classificador = DecisionTreeClassifier(criterion='entropy', random_state=0)\n",
    "classificador.fit(previsores_treinamento, classe_treinamento)\n",
    "previsoes = classificador.predict(previsores_teste)\n",
    "\n",
    "from sklearn.metrics import confusion_matrix, accuracy_score\n",
    "precisao = accuracy_score(classe_teste, previsoes)\n",
    "matriz = confusion_matrix(classe_teste, previsoes)\n",
    "print(\"Precisão de {}%\".format(round(precisao*100, 3)))\n",
    "matriz"
   ]
  },
  {
   "cell_type": "markdown",
   "metadata": {},
   "source": [
    "## Aprendizagem com Ensemble Learning e com padronização"
   ]
  },
  {
   "cell_type": "code",
   "execution_count": 32,
   "metadata": {},
   "outputs": [
    {
     "output_type": "stream",
     "name": "stdout",
     "text": "Precisão de 98.4%\n"
    },
    {
     "output_type": "execute_result",
     "data": {
      "text/plain": "array([[433,   3],\n       [  5,  59]], dtype=int64)"
     },
     "metadata": {},
     "execution_count": 32
    }
   ],
   "source": [
    "import pandas as pd\n",
    "import numpy as np\n",
    "\n",
    "base = pd.read_csv('credit_data.csv')\n",
    "base.loc[base.age < 0, 'age'] = 40.92\n",
    "               \n",
    "previsores = base.iloc[:, 1:4].values\n",
    "classe = base.iloc[:, 4].values\n",
    "\n",
    "from sklearn.impute import SimpleImputer\n",
    "imputer = SimpleImputer(missing_values = np.nan, strategy = 'mean')\n",
    "imputer = imputer.fit(previsores[:, 1:4])\n",
    "previsores[:, 1:4] = imputer.transform(previsores[:, 1:4])\n",
    "\n",
    "from sklearn.preprocessing import StandardScaler\n",
    "scaler = StandardScaler()\n",
    "previsores = scaler.fit_transform(previsores)\n",
    "\n",
    "from sklearn.model_selection import train_test_split\n",
    "previsores_treinamento, previsores_teste, classe_treinamento, classe_teste = train_test_split(previsores, classe, test_size=0.25, random_state=0)\n",
    "\n",
    "from sklearn.ensemble import RandomForestClassifier\n",
    "### n_estimators são o número de ávores utilizadas\n",
    "classificador = RandomForestClassifier(n_estimators=71, criterion='entropy', random_state=0)\n",
    "classificador.fit(previsores_treinamento, classe_treinamento)\n",
    "previsoes = classificador.predict(previsores_teste)\n",
    "\n",
    "from sklearn.metrics import confusion_matrix, accuracy_score\n",
    "precisao = accuracy_score(classe_teste, previsoes)\n",
    "matriz = confusion_matrix(classe_teste, previsoes)\n",
    "print(\"Precisão de {}%\".format(round(precisao*100, 3)))\n",
    "matriz"
   ]
  },
  {
   "cell_type": "markdown",
   "metadata": {},
   "source": [
    "## Aprendizagem com Ensemble Learning e sem padronização"
   ]
  },
  {
   "cell_type": "code",
   "execution_count": 35,
   "metadata": {},
   "outputs": [
    {
     "output_type": "stream",
     "name": "stdout",
     "text": "Precisão de 98.4%\n"
    },
    {
     "output_type": "execute_result",
     "data": {
      "text/plain": "array([[433,   3],\n       [  5,  59]], dtype=int64)"
     },
     "metadata": {},
     "execution_count": 35
    }
   ],
   "source": [
    "import pandas as pd\n",
    "import numpy as np\n",
    "\n",
    "base = pd.read_csv('credit_data.csv')\n",
    "base.loc[base.age < 0, 'age'] = 40.92\n",
    "               \n",
    "previsores = base.iloc[:, 1:4].values\n",
    "classe = base.iloc[:, 4].values\n",
    "\n",
    "from sklearn.impute import SimpleImputer\n",
    "imputer = SimpleImputer(missing_values = np.nan, strategy = 'mean')\n",
    "imputer = imputer.fit(previsores[:, 1:4])\n",
    "previsores[:, 1:4] = imputer.transform(previsores[:, 1:4])\n",
    "\n",
    "from sklearn.model_selection import train_test_split\n",
    "previsores_treinamento, previsores_teste, classe_treinamento, classe_teste = train_test_split(previsores, classe, test_size=0.25, random_state=0)\n",
    "\n",
    "from sklearn.ensemble import RandomForestClassifier\n",
    "### n_estimators são o número de ávores utilizadas\n",
    "classificador = RandomForestClassifier(n_estimators=71, criterion='entropy', random_state=0)\n",
    "classificador.fit(previsores_treinamento, classe_treinamento)\n",
    "previsoes = classificador.predict(previsores_teste)\n",
    "\n",
    "from sklearn.metrics import confusion_matrix, accuracy_score\n",
    "precisao = accuracy_score(classe_teste, previsoes)\n",
    "matriz = confusion_matrix(classe_teste, previsoes)\n",
    "print(\"Precisão de {}%\".format(round(precisao*100, 3)))\n",
    "matriz"
   ]
  },
  {
   "cell_type": "code",
   "execution_count": null,
   "metadata": {},
   "outputs": [],
   "source": []
  }
 ],
 "metadata": {
  "language_info": {
   "codemirror_mode": {
    "name": "ipython",
    "version": 3
   },
   "file_extension": ".py",
   "mimetype": "text/x-python",
   "name": "python",
   "nbconvert_exporter": "python",
   "pygments_lexer": "ipython3",
   "version": "3.7.6-final"
  },
  "orig_nbformat": 2,
  "kernelspec": {
   "name": "python3",
   "display_name": "Python 3"
  }
 },
 "nbformat": 4,
 "nbformat_minor": 2
}