{
 "cells": [
  {
   "cell_type": "code",
   "execution_count": 1,
   "metadata": {},
   "outputs": [],
   "source": [
    "import pandas as pd \n",
    "import numpy as np\n",
    "\n",
    "base = pd.read_csv('credit_data.csv')\n",
    "base.loc[base.age < 0, 'age'] = base['age'].mean()\n",
    "\n",
    "previsores = base.iloc[:, 1:4]\n",
    "classe = base.iloc[:, 4]\n",
    "\n",
    "from sklearn.impute import SimpleImputer\n",
    "imputer = SimpleImputer(missing_values=np.nan, strategy='mean')\n",
    "previsores = imputer.fit_transform(previsores)\n",
    "\n",
    "from sklearn.preprocessing import StandardScaler\n",
    "scaler = StandardScaler()\n",
    "previsores = scaler.fit_transform(previsores)\n",
    "\n",
    "from sklearn.model_selection import train_test_split\n",
    "previsores_treinamento, previsores_teste, classe_treinamento, classe_teste = train_test_split(previsores, classe, test_size=0.25, random_state=0)"
   ]
  },
  {
   "cell_type": "markdown",
   "metadata": {},
   "source": [
    "NOTA: Uma rede neural do tipo DENSE é uma rede neural onde todos os neurônios de uma camada estão ligados a todos os neurônios da camada seguinte."
   ]
  },
  {
   "cell_type": "code",
   "execution_count": 3,
   "metadata": {},
   "outputs": [],
   "source": [
    "import keras\n",
    "from keras.models import Sequential\n",
    "from keras.layers import Dense\n",
    "\n",
    "classificador = Sequential()\n",
    "### Criando uma hidden layer com dois neurônios que receberá informação de outros 3 neurônios, utilizando a função retified linear\n",
    "classificador.add(Dense(units=2, activation='relu', input_dim=3)) #input_dim só precisa ser dito na primeira camada\n",
    "classificador.add(Dense(units=2, activation='relu'))\n",
    "classificador.add(Dense(units=1, activation='sigmoid'))\n",
    "\n",
    "### Indica como queremos fazer a alteração dos pesos (adam é uma descida de gradiente otimizada) e a métrica que iremos utilizar\n",
    "classificador.compile(optimizer='adam', loss='binary_crossentropy', metrics= ['accuracy'])"
   ]
  },
  {
   "cell_type": "code",
   "execution_count": 4,
   "metadata": {},
   "outputs": [
    {
     "output_type": "stream",
     "name": "stdout",
     "text": "Epoch 1/100\n1500/1500 [==============================] - 0s 136us/step - loss: 0.6484 - accuracy: 0.8540\nEpoch 2/100\n1500/1500 [==============================] - 0s 65us/step - loss: 0.5512 - accuracy: 0.8540\nEpoch 3/100\n1500/1500 [==============================] - 0s 63us/step - loss: 0.4550 - accuracy: 0.8540\nEpoch 4/100\n1500/1500 [==============================] - 0s 61us/step - loss: 0.3873 - accuracy: 0.8540\nEpoch 5/100\n1500/1500 [==============================] - 0s 60us/step - loss: 0.3443 - accuracy: 0.8540\nEpoch 6/100\n1500/1500 [==============================] - 0s 61us/step - loss: 0.3140 - accuracy: 0.8540\nEpoch 7/100\n1500/1500 [==============================] - 0s 60us/step - loss: 0.2897 - accuracy: 0.8540\nEpoch 8/100\n1500/1500 [==============================] - 0s 61us/step - loss: 0.2689 - accuracy: 0.8540\nEpoch 9/100\n1500/1500 [==============================] - 0s 60us/step - loss: 0.2505 - accuracy: 0.8540\nEpoch 10/100\n1500/1500 [==============================] - 0s 61us/step - loss: 0.2335 - accuracy: 0.8540\nEpoch 11/100\n1500/1500 [==============================] - 0s 61us/step - loss: 0.2173 - accuracy: 0.8540\nEpoch 12/100\n1500/1500 [==============================] - 0s 59us/step - loss: 0.2017 - accuracy: 0.8540\nEpoch 13/100\n1500/1500 [==============================] - 0s 61us/step - loss: 0.1865 - accuracy: 0.8540\nEpoch 14/100\n1500/1500 [==============================] - 0s 60us/step - loss: 0.1725 - accuracy: 0.8540\nEpoch 15/100\n1500/1500 [==============================] - 0s 64us/step - loss: 0.1614 - accuracy: 0.9113\nEpoch 16/100\n1500/1500 [==============================] - 0s 65us/step - loss: 0.1516 - accuracy: 0.9573\nEpoch 17/100\n1500/1500 [==============================] - 0s 65us/step - loss: 0.1430 - accuracy: 0.9587\nEpoch 18/100\n1500/1500 [==============================] - 0s 65us/step - loss: 0.1350 - accuracy: 0.9607\nEpoch 19/100\n1500/1500 [==============================] - 0s 64us/step - loss: 0.1276 - accuracy: 0.9647\nEpoch 20/100\n1500/1500 [==============================] - 0s 65us/step - loss: 0.1206 - accuracy: 0.9687\nEpoch 21/100\n1500/1500 [==============================] - 0s 66us/step - loss: 0.1143 - accuracy: 0.9713\nEpoch 22/100\n1500/1500 [==============================] - 0s 67us/step - loss: 0.1087 - accuracy: 0.9733\nEpoch 23/100\n1500/1500 [==============================] - 0s 73us/step - loss: 0.1034 - accuracy: 0.9760\nEpoch 24/100\n1500/1500 [==============================] - 0s 67us/step - loss: 0.0985 - accuracy: 0.9793\nEpoch 25/100\n1500/1500 [==============================] - 0s 66us/step - loss: 0.0939 - accuracy: 0.9813\nEpoch 26/100\n1500/1500 [==============================] - 0s 70us/step - loss: 0.0894 - accuracy: 0.9840\nEpoch 27/100\n1500/1500 [==============================] - 0s 71us/step - loss: 0.0854 - accuracy: 0.9880\nEpoch 28/100\n1500/1500 [==============================] - 0s 65us/step - loss: 0.0815 - accuracy: 0.9867\nEpoch 29/100\n1500/1500 [==============================] - 0s 66us/step - loss: 0.0779 - accuracy: 0.9907\nEpoch 30/100\n1500/1500 [==============================] - 0s 67us/step - loss: 0.0744 - accuracy: 0.9947\nEpoch 31/100\n1500/1500 [==============================] - 0s 65us/step - loss: 0.0711 - accuracy: 0.9933\nEpoch 32/100\n1500/1500 [==============================] - 0s 67us/step - loss: 0.0679 - accuracy: 0.9933\nEpoch 33/100\n1500/1500 [==============================] - 0s 64us/step - loss: 0.0651 - accuracy: 0.9940\nEpoch 34/100\n1500/1500 [==============================] - 0s 61us/step - loss: 0.0622 - accuracy: 0.9960\nEpoch 35/100\n1500/1500 [==============================] - 0s 67us/step - loss: 0.0595 - accuracy: 0.9947\nEpoch 36/100\n1500/1500 [==============================] - 0s 65us/step - loss: 0.0570 - accuracy: 0.9940\nEpoch 37/100\n1500/1500 [==============================] - 0s 63us/step - loss: 0.0547 - accuracy: 0.9967\nEpoch 38/100\n1500/1500 [==============================] - 0s 66us/step - loss: 0.0525 - accuracy: 0.9960\nEpoch 39/100\n1500/1500 [==============================] - 0s 66us/step - loss: 0.0504 - accuracy: 0.9967\nEpoch 40/100\n1500/1500 [==============================] - 0s 65us/step - loss: 0.0484 - accuracy: 0.9953\nEpoch 41/100\n1500/1500 [==============================] - 0s 63us/step - loss: 0.0464 - accuracy: 0.9960\nEpoch 42/100\n1500/1500 [==============================] - 0s 65us/step - loss: 0.0446 - accuracy: 0.9960\nEpoch 43/100\n1500/1500 [==============================] - 0s 67us/step - loss: 0.0429 - accuracy: 0.9973\nEpoch 44/100\n1500/1500 [==============================] - 0s 65us/step - loss: 0.0413 - accuracy: 0.9967\nEpoch 45/100\n1500/1500 [==============================] - 0s 67us/step - loss: 0.0398 - accuracy: 0.9967\nEpoch 46/100\n1500/1500 [==============================] - 0s 67us/step - loss: 0.0384 - accuracy: 0.9967\nEpoch 47/100\n1500/1500 [==============================] - 0s 75us/step - loss: 0.0370 - accuracy: 0.9967\nEpoch 48/100\n1500/1500 [==============================] - 0s 67us/step - loss: 0.0355 - accuracy: 0.9967\nEpoch 49/100\n1500/1500 [==============================] - 0s 62us/step - loss: 0.0342 - accuracy: 0.9973\nEpoch 50/100\n1500/1500 [==============================] - 0s 65us/step - loss: 0.0332 - accuracy: 0.9960\nEpoch 51/100\n1500/1500 [==============================] - 0s 61us/step - loss: 0.0321 - accuracy: 0.9967\nEpoch 52/100\n1500/1500 [==============================] - 0s 61us/step - loss: 0.0311 - accuracy: 0.9973\nEpoch 53/100\n1500/1500 [==============================] - 0s 60us/step - loss: 0.0299 - accuracy: 0.9960\nEpoch 54/100\n1500/1500 [==============================] - 0s 61us/step - loss: 0.0290 - accuracy: 0.9973\nEpoch 55/100\n1500/1500 [==============================] - 0s 61us/step - loss: 0.0280 - accuracy: 0.9973\nEpoch 56/100\n1500/1500 [==============================] - 0s 62us/step - loss: 0.0271 - accuracy: 0.9960\nEpoch 57/100\n1500/1500 [==============================] - 0s 61us/step - loss: 0.0262 - accuracy: 0.9973\nEpoch 58/100\n1500/1500 [==============================] - 0s 61us/step - loss: 0.0255 - accuracy: 0.9967\nEpoch 59/100\n1500/1500 [==============================] - 0s 61us/step - loss: 0.0248 - accuracy: 0.9967\nEpoch 60/100\n1500/1500 [==============================] - 0s 60us/step - loss: 0.0241 - accuracy: 0.9967\nEpoch 61/100\n1500/1500 [==============================] - 0s 61us/step - loss: 0.0232 - accuracy: 0.9973\nEpoch 62/100\n1500/1500 [==============================] - 0s 63us/step - loss: 0.0227 - accuracy: 0.9980\nEpoch 63/100\n1500/1500 [==============================] - 0s 59us/step - loss: 0.0219 - accuracy: 0.9980\nEpoch 64/100\n1500/1500 [==============================] - 0s 62us/step - loss: 0.0214 - accuracy: 0.9973\nEpoch 65/100\n1500/1500 [==============================] - 0s 63us/step - loss: 0.0208 - accuracy: 0.9973\nEpoch 66/100\n1500/1500 [==============================] - 0s 63us/step - loss: 0.0202 - accuracy: 0.9993\nEpoch 67/100\n1500/1500 [==============================] - 0s 60us/step - loss: 0.0196 - accuracy: 0.9987\nEpoch 68/100\n1500/1500 [==============================] - 0s 61us/step - loss: 0.0192 - accuracy: 0.9987\nEpoch 69/100\n1500/1500 [==============================] - 0s 60us/step - loss: 0.0188 - accuracy: 0.9973\nEpoch 70/100\n1500/1500 [==============================] - 0s 60us/step - loss: 0.0182 - accuracy: 0.9980\nEpoch 71/100\n1500/1500 [==============================] - 0s 61us/step - loss: 0.0178 - accuracy: 0.9993\nEpoch 72/100\n1500/1500 [==============================] - 0s 59us/step - loss: 0.0173 - accuracy: 0.9993\nEpoch 73/100\n1500/1500 [==============================] - 0s 61us/step - loss: 0.0168 - accuracy: 0.9987\nEpoch 74/100\n1500/1500 [==============================] - 0s 60us/step - loss: 0.0166 - accuracy: 0.9993\nEpoch 75/100\n1500/1500 [==============================] - 0s 68us/step - loss: 0.0160 - accuracy: 0.9993\nEpoch 76/100\n1500/1500 [==============================] - 0s 65us/step - loss: 0.0158 - accuracy: 0.9993\nEpoch 77/100\n1500/1500 [==============================] - 0s 62us/step - loss: 0.0154 - accuracy: 0.9993\nEpoch 78/100\n1500/1500 [==============================] - 0s 62us/step - loss: 0.0150 - accuracy: 0.9993\nEpoch 79/100\n1500/1500 [==============================] - 0s 65us/step - loss: 0.0147 - accuracy: 0.9993\nEpoch 80/100\n1500/1500 [==============================] - 0s 63us/step - loss: 0.0144 - accuracy: 0.9993\nEpoch 81/100\n1500/1500 [==============================] - 0s 61us/step - loss: 0.0139 - accuracy: 0.9993\nEpoch 82/100\n1500/1500 [==============================] - 0s 65us/step - loss: 0.0137 - accuracy: 0.9993\nEpoch 83/100\n1500/1500 [==============================] - 0s 64us/step - loss: 0.0134 - accuracy: 0.9993\nEpoch 84/100\n1500/1500 [==============================] - 0s 63us/step - loss: 0.0131 - accuracy: 0.9993\nEpoch 85/100\n1500/1500 [==============================] - 0s 63us/step - loss: 0.0127 - accuracy: 0.9993\nEpoch 86/100\n1500/1500 [==============================] - 0s 63us/step - loss: 0.0125 - accuracy: 0.9993\nEpoch 87/100\n1500/1500 [==============================] - 0s 63us/step - loss: 0.0123 - accuracy: 0.9993\nEpoch 88/100\n1500/1500 [==============================] - 0s 61us/step - loss: 0.0120 - accuracy: 1.0000\nEpoch 89/100\n1500/1500 [==============================] - 0s 61us/step - loss: 0.0118 - accuracy: 0.9993\nEpoch 90/100\n1500/1500 [==============================] - 0s 63us/step - loss: 0.0115 - accuracy: 0.9993\nEpoch 91/100\n1500/1500 [==============================] - 0s 60us/step - loss: 0.0113 - accuracy: 0.9993\nEpoch 92/100\n1500/1500 [==============================] - 0s 61us/step - loss: 0.0110 - accuracy: 0.9993\nEpoch 93/100\n1500/1500 [==============================] - 0s 61us/step - loss: 0.0109 - accuracy: 0.9993\nEpoch 94/100\n1500/1500 [==============================] - 0s 60us/step - loss: 0.0106 - accuracy: 0.9993\nEpoch 95/100\n1500/1500 [==============================] - 0s 60us/step - loss: 0.0105 - accuracy: 0.9993\nEpoch 96/100\n1500/1500 [==============================] - 0s 62us/step - loss: 0.0103 - accuracy: 0.9993\nEpoch 97/100\n1500/1500 [==============================] - 0s 61us/step - loss: 0.0099 - accuracy: 0.9993\nEpoch 98/100\n1500/1500 [==============================] - 0s 61us/step - loss: 0.0100 - accuracy: 0.9993\nEpoch 99/100\n1500/1500 [==============================] - 0s 59us/step - loss: 0.0098 - accuracy: 0.9993\nEpoch 100/100\n1500/1500 [==============================] - 0s 64us/step - loss: 0.0095 - accuracy: 0.9993\n"
    },
    {
     "output_type": "execute_result",
     "data": {
      "text/plain": "<keras.callbacks.callbacks.History at 0x2b79f6c8bc8>"
     },
     "metadata": {},
     "execution_count": 4
    }
   ],
   "source": [
    "### Batch_size faz com que atualize os pesos a cada 10 dados e treina por 100 épocas\n",
    "classificador.fit(previsores_treinamento, classe_treinamento, batch_size=10, nb_epoch=100)"
   ]
  },
  {
   "cell_type": "code",
   "execution_count": 9,
   "metadata": {},
   "outputs": [],
   "source": [
    "previsoes = classificador.predict(previsores_teste)\n",
    "### Fazendo com que o retorno seja verdadeiro ou falso, baseado num valor médio de 0,5\n",
    "previsoes = (previsoes > 0.5)"
   ]
  },
  {
   "cell_type": "code",
   "execution_count": 10,
   "metadata": {},
   "outputs": [
    {
     "output_type": "stream",
     "name": "stdout",
     "text": "Precisão:  0.996\n[[435   1]\n [  1  63]]\n"
    }
   ],
   "source": [
    "from sklearn.metrics import accuracy_score, confusion_matrix\n",
    "precisao = accuracy_score(classe_teste, previsoes)\n",
    "matriz = confusion_matrix(classe_teste, previsoes)\n",
    "print('Precisão: ', precisao)\n",
    "print(matriz)"
   ]
  },
  {
   "cell_type": "code",
   "execution_count": null,
   "metadata": {},
   "outputs": [],
   "source": []
  }
 ],
 "metadata": {
  "language_info": {
   "codemirror_mode": {
    "name": "ipython",
    "version": 3
   },
   "file_extension": ".py",
   "mimetype": "text/x-python",
   "name": "python",
   "nbconvert_exporter": "python",
   "pygments_lexer": "ipython3",
   "version": "3.7.6-final"
  },
  "orig_nbformat": 2,
  "kernelspec": {
   "name": "python3",
   "display_name": "Python 3"
  }
 },
 "nbformat": 4,
 "nbformat_minor": 2
}