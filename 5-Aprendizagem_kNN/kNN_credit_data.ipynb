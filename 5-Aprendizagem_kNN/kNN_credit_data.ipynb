{
 "cells": [
  {
   "cell_type": "markdown",
   "metadata": {},
   "source": [
    "# Aprendizagem k-Nearest Neighbors (kNN)\n",
    "\n",
    "Nesse algortimo a máquina irá prever a classe de um determinado conjunto de dados através da distância (Euclidiana por padrão) entre seu(s) vizinho(s). A quantidade de vizinhos é escolhida através do valor de K (ou n_neighbors, no construtor KNeighborsClassifier).\n",
    "\n",
    "Esse algoritmo é muito utilizado para gerar recomendações, por exemplo, de filmes na Netflix, uma vez que através das avaliações de uma pessoa ele consegue achar a(s) pessoa(s) com o(s) gosto(s) mais parecido(s) e, logo em seguida, recomendar filmes que essas outras pessoas assistiram mas a pessoa em análise não.\n",
    "\n",
    "Como o algoritmo se baseia na distância de cada atributo com os seus vizinhos, o escalonamento é essencial para alcançar boas previsões e uma melhor precisão, consequentemente."
   ]
  },
  {
   "cell_type": "code",
   "execution_count": 8,
   "metadata": {},
   "outputs": [],
   "source": [
    "import pandas as pd \n",
    "import numpy as np\n",
    "\n",
    "base = pd.read_csv('credit_data.csv')\n",
    "base.loc[base.age < 0, 'age'] = base['age'].mean()\n",
    "\n",
    "previsores = base.iloc[:, 1:4]\n",
    "classe = base.iloc[:, 4]\n",
    "\n",
    "from sklearn.impute import SimpleImputer\n",
    "imputer = SimpleImputer(missing_values=np.nan, strategy='mean')\n",
    "previsores = imputer.fit_transform(previsores)\n",
    "\n",
    "from sklearn.preprocessing import StandardScaler\n",
    "scaler = StandardScaler()\n",
    "previsores = scaler.fit_transform(previsores)\n",
    "\n",
    "from sklearn.model_selection import train_test_split\n",
    "previsores_treinamento, previsores_teste, classe_treinamento, classe_teste = train_test_split(previsores, classe, test_size=0.25, random_state=0)"
   ]
  },
  {
   "cell_type": "code",
   "execution_count": 10,
   "metadata": {},
   "outputs": [],
   "source": [
    "from sklearn.neighbors import KNeighborsClassifier\n",
    "### Escolhendo o número de vizinhos (K), utilizando a metrica minkowski (Distancia Euclidiana) com valor default p=2\n",
    "classificador = KNeighborsClassifier(n_neighbors=5, metric='minkowski', p=2)\n",
    "\n",
    "classificador.fit(previsores_treinamento, classe_treinamento)\n",
    "previsoes = classificador.predict(previsores_teste)"
   ]
  },
  {
   "cell_type": "code",
   "execution_count": 13,
   "metadata": {},
   "outputs": [
    {
     "output_type": "stream",
     "name": "stdout",
     "text": "Precisão: 98.6%\nMatriz de confusão: \n[[432   4]\n [  3  61]]\n"
    }
   ],
   "source": [
    "from sklearn.metrics import confusion_matrix, accuracy_score\n",
    "precisao = accuracy_score(classe_teste, previsoes)\n",
    "matriz = confusion_matrix(classe_teste, previsoes)\n",
    "print('Precisão: {}%'.format(precisao*100))\n",
    "print('Matriz de confusão: ')\n",
    "print(matriz)"
   ]
  },
  {
   "cell_type": "code",
   "execution_count": null,
   "metadata": {},
   "outputs": [],
   "source": []
  }
 ],
 "metadata": {
  "language_info": {
   "codemirror_mode": {
    "name": "ipython",
    "version": 3
   },
   "file_extension": ".py",
   "mimetype": "text/x-python",
   "name": "python",
   "nbconvert_exporter": "python",
   "pygments_lexer": "ipython3",
   "version": "3.7.6-final"
  },
  "orig_nbformat": 2,
  "kernelspec": {
   "name": "python3",
   "display_name": "Python 3"
  }
 },
 "nbformat": 4,
 "nbformat_minor": 2
}