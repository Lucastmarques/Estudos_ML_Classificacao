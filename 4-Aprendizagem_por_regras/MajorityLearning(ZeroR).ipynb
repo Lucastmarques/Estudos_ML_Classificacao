{
 "cells": [
  {
   "cell_type": "markdown",
   "metadata": {},
   "source": [
    "# Teste com Majority Learning (ZeroR)"
   ]
  },
  {
   "cell_type": "code",
   "execution_count": 1,
   "metadata": {},
   "outputs": [
    {
     "output_type": "execute_result",
     "data": {
      "text/plain": "[age, workclass, final-weight, education, education-num, marital-status, occupation, relationship, race, sex, capital-gain, capital-loos, hour-per-week, native-country | income]"
     },
     "metadata": {},
     "execution_count": 1
    }
   ],
   "source": [
    "import Orange\n",
    "\n",
    "base = Orange.data.Table('census.csv')\n",
    "base.domain"
   ]
  },
  {
   "cell_type": "code",
   "execution_count": 2,
   "metadata": {},
   "outputs": [],
   "source": [
    "base_teste, base_treinamento = Orange.evaluation.testing.sample(base, n=0.25)"
   ]
  },
  {
   "cell_type": "code",
   "execution_count": 3,
   "metadata": {},
   "outputs": [
    {
     "output_type": "stream",
     "name": "stdout",
     "text": "[0.75810811]\n"
    }
   ],
   "source": [
    "classificador = Orange.classification.MajorityLearner()\n",
    "resultado = Orange.evaluation.testing.TestOnTestData(base_treinamento, base_teste, [classificador])\n",
    "print(Orange.evaluation.CA(resultado))"
   ]
  },
  {
   "cell_type": "markdown",
   "metadata": {},
   "source": [
    "O valor acima indica o mínimo esperado de um algortimo de aprendizagem de máquina, uma vez que esse valor implica no resultado caso usassemos a seleção pela maioria."
   ]
  },
  {
   "cell_type": "code",
   "execution_count": null,
   "metadata": {},
   "outputs": [],
   "source": []
  }
 ],
 "metadata": {
  "language_info": {
   "codemirror_mode": {
    "name": "ipython",
    "version": 3
   },
   "file_extension": ".py",
   "mimetype": "text/x-python",
   "name": "python",
   "nbconvert_exporter": "python",
   "pygments_lexer": "ipython3",
   "version": "3.7.6-final"
  },
  "orig_nbformat": 2,
  "kernelspec": {
   "name": "python3",
   "display_name": "Python 3"
  }
 },
 "nbformat": 4,
 "nbformat_minor": 2
}