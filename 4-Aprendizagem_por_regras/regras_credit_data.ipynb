{
 "cells": [
  {
   "cell_type": "markdown",
   "metadata": {},
   "source": [
    "# Aprendizagem pro Regras"
   ]
  },
  {
   "cell_type": "code",
   "execution_count": 26,
   "metadata": {},
   "outputs": [
    {
     "output_type": "execute_result",
     "data": {
      "text/plain": "[income, age, loan | default]"
     },
     "metadata": {},
     "execution_count": 26
    }
   ],
   "source": [
    "import Orange\n",
    "\n",
    "base = Orange.data.Table('credit_data.csv')\n",
    "base.domain"
   ]
  },
  {
   "cell_type": "code",
   "execution_count": 36,
   "metadata": {},
   "outputs": [],
   "source": [
    "base_dividida = Orange.evaluation.testing.sample(base, n=0.25)\n",
    "base_treinamento = base_dividida[1]\n",
    "base_teste = base_dividida[0]"
   ]
  },
  {
   "cell_type": "code",
   "execution_count": 37,
   "metadata": {},
   "outputs": [
    {
     "output_type": "stream",
     "name": "stdout",
     "text": "IF age>=34.9257164876908 THEN default=0 \nIF loan<=2495.13299137587 AND income>=20145.9885970689 THEN default=0 \nIF income<=31722.7309499867 AND loan>=3360.0594135198903 THEN default=1 \nIF loan>=7708.31562497011 AND loan>=9601.375482171099 THEN default=1 \nIF loan>=6921.4910285276 AND loan>=9595.28628892989 THEN default=0 \nIF loan>=8034.74777409028 THEN default=1 \nIF income>=58132.4712652713 AND age>=22.939635145478 THEN default=0 \nIF income>=58609.13148382679 AND age>=22.918212262913602 THEN default=1 \nIF income>=58609.13148382679 THEN default=0 \nIF loan>=6342.56790924236 THEN default=1 \nIF income>=48790.1324336417 THEN default=0 \nIF loan>=5416.3577980789005 THEN default=1 \nIF age>=33.403173910453894 THEN default=0 \nIF age>=32.8975483207032 THEN default=1 \nIF age>=30.5573441837914 THEN default=0 \nIF age>=30.132575557101497 THEN default=1 \nIF age>=29.209119285922498 THEN default=0 \nIF income<=22089.8374845274 AND age>=21.3656869572587 THEN default=1 \nIF income>=40496.2558229454 THEN default=0 \nIF income>=39992.7191133611 THEN default=1 \nIF income>=38129.754869733 THEN default=0 \nIF income>=37887.5493933447 THEN default=1 \nIF loan>=4849.33378471958 THEN default=1 \nIF income>=27407.056202646298 THEN default=0 \nIF income>=25640.0788831525 THEN default=1 \nIF income<=24857.6948815025 THEN default=0 \nIF income<=25146.5956843458 THEN default=0 \nIF TRUE THEN default=0 \n"
    }
   ],
   "source": [
    "cn2_learner = Orange.classification.rules.CN2Learner()\n",
    "classificador = cn2_learner(base_treinamento)\n",
    "\n",
    "for regras in classificador.rule_list:\n",
    "    print(regras)"
   ]
  },
  {
   "cell_type": "code",
   "execution_count": 72,
   "metadata": {},
   "outputs": [],
   "source": [
    "### Fazendo as previsões (é possível passar mais de um classificador)\n",
    "resultado = Orange.evaluation.testing.TestOnTestData(base_treinamento, base_teste, [classificador])"
   ]
  },
  {
   "cell_type": "code",
   "execution_count": 73,
   "metadata": {},
   "outputs": [
    {
     "output_type": "stream",
     "name": "stdout",
     "text": "[0.86]\n"
    }
   ],
   "source": [
    "print(Orange.evaluation.CA(resultado))"
   ]
  },
  {
   "cell_type": "markdown",
   "metadata": {},
   "source": [
    "## Aprendizagem por regras usando MajorityLearner() (Algoritmo ZeroR)\n",
    "\n",
    "O que o MajorityLearner() faz é classificar cada caso de acordo com a maioria, ou seja, ele está mais para um Counter do que para um Learner.\n",
    "\n",
    "A principal aplicação dele é nos ajudar (programador) a saber se o nosso algoritmo de Machine Learning é adequado, uma vez que caso a precisão do algoritmo seja menor que a precisão desse classificador, podemos admitir que é melhor classificar pela maioria do que usando o aprendizado de máquina que programamos."
   ]
  },
  {
   "cell_type": "code",
   "execution_count": 33,
   "metadata": {},
   "outputs": [
    {
     "output_type": "execute_result",
     "data": {
      "text/plain": "[income, age, loan | default]"
     },
     "metadata": {},
     "execution_count": 33
    }
   ],
   "source": [
    "import Orange\n",
    "\n",
    "base = Orange.data.Table('credit_data.csv')\n",
    "base.domain"
   ]
  },
  {
   "cell_type": "code",
   "execution_count": 34,
   "metadata": {},
   "outputs": [],
   "source": [
    "base_dividida = Orange.evaluation.testing.sample(base, n=0.25)\n",
    "base_treinamento = base_dividida[1]\n",
    "base_teste = base_dividida[0]"
   ]
  },
  {
   "cell_type": "code",
   "execution_count": 35,
   "metadata": {},
   "outputs": [
    {
     "output_type": "stream",
     "name": "stdout",
     "text": "[0.852]\n"
    }
   ],
   "source": [
    "classificador = Orange.classification.MajorityLearner()\n",
    "resultado = Orange.evaluation.testing.TestOnTestData(base_treinamento, base_teste, [classificador])\n",
    "print(Orange.evaluation.CA(resultado))"
   ]
  },
  {
   "cell_type": "code",
   "execution_count": null,
   "metadata": {},
   "outputs": [],
   "source": []
  }
 ],
 "metadata": {
  "language_info": {
   "codemirror_mode": {
    "name": "ipython",
    "version": 3
   },
   "file_extension": ".py",
   "mimetype": "text/x-python",
   "name": "python",
   "nbconvert_exporter": "python",
   "pygments_lexer": "ipython3",
   "version": "3.7.6-final"
  },
  "orig_nbformat": 2,
  "kernelspec": {
   "name": "python3",
   "display_name": "Python 3"
  }
 },
 "nbformat": 4,
 "nbformat_minor": 2
}