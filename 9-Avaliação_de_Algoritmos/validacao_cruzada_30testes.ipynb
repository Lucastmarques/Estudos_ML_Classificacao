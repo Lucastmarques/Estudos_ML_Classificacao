{
 "cells": [
  {
   "cell_type": "code",
   "execution_count": 1,
   "metadata": {},
   "outputs": [],
   "source": [
    "import pandas as pd \n",
    "import numpy as np\n",
    "\n",
    "base = pd.read_csv('credit_data.csv')\n",
    "base.loc[base.age < 0, 'age'] = 40.92\n",
    "\n",
    "previsores = base.iloc[:, 1:4].values\n",
    "classe = base.iloc[:, 4].values\n",
    "\n",
    "from sklearn.impute import SimpleImputer\n",
    "imputer = SimpleImputer(missing_values=np.nan, strategy='mean')\n",
    "previsores[:, 1:4] = imputer.fit_transform(previsores[:, 1:4])\n",
    "\n",
    "from sklearn.preprocessing import StandardScaler\n",
    "scaler = StandardScaler()\n",
    "previsores[:, 1:4] = scaler.fit_transform(previsores[:, 1:4])"
   ]
  },
  {
   "cell_type": "code",
   "execution_count": 7,
   "metadata": {},
   "outputs": [
    {
     "output_type": "stream",
     "name": "stdout",
     "text": "0,9185000000000001\n0,9174999999999999\n0,9175000000000001\n0,9180000000000001\n0,9175000000000001\n0,9175000000000001\n0,9170000000000001\n0,9175000000000001\n0,9155000000000001\n0,9170000000000001\n0,9175000000000001\n0,917\n0,9175000000000001\n0,9179999999999999\n0,916\n0,9179999999999999\n0,9175000000000001\n0,916\n0,9175000000000001\n0,9180000000000001\n0,9179999999999999\n0,9185000000000001\n0,9195\n0,9175000000000001\n0,9164999999999999\n0,9195\n0,917\n0,9165000000000001\n0,9175000000000001\n0,916\n"
    }
   ],
   "source": [
    "from sklearn.model_selection import StratifiedKFold\n",
    "from sklearn.naive_bayes import GaussianNB\n",
    "from sklearn.metrics import accuracy_score\n",
    "\n",
    "resultados30 = []\n",
    "\n",
    "for i in range(30):\n",
    "    kfold = StratifiedKFold(n_splits=10, shuffle=True, random_state=i)\n",
    "    resultados1 = []\n",
    "\n",
    "    for indice_treinamento, indice_teste in kfold.split(previsores, classe):\n",
    "\n",
    "        classificador = GaussianNB()\n",
    "    \n",
    "        classificador.fit(previsores[indice_treinamento], classe[indice_treinamento])\n",
    "        previsoes = classificador.predict(previsores[indice_teste])\n",
    "        precisao = accuracy_score(classe[indice_teste], previsoes)\n",
    "        resultados1.append(precisao)\n",
    "\n",
    "    resultados1 = np.asarray(resultados1)\n",
    "    media = resultados1.mean()\n",
    "    resultados30.append(media)\n",
    "\n",
    "resultados30 = np.asarray(resultados30)\n",
    "\n",
    "for i in range(resultados30.size):\n",
    "    print(str(resultados30[i]).replace('.', ','))\n"
   ]
  },
  {
   "cell_type": "code",
   "execution_count": null,
   "metadata": {},
   "outputs": [],
   "source": []
  }
 ],
 "metadata": {
  "language_info": {
   "codemirror_mode": {
    "name": "ipython",
    "version": 3
   },
   "file_extension": ".py",
   "mimetype": "text/x-python",
   "name": "python",
   "nbconvert_exporter": "python",
   "pygments_lexer": "ipython3",
   "version": "3.7.6-final"
  },
  "orig_nbformat": 2,
  "kernelspec": {
   "name": "python3",
   "display_name": "Python 3"
  }
 },
 "nbformat": 4,
 "nbformat_minor": 2
}