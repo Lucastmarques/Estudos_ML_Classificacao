{
 "cells": [
  {
   "cell_type": "code",
   "execution_count": 5,
   "metadata": {},
   "outputs": [],
   "source": [
    "import pandas as pd \n",
    "import numpy as np \n",
    "import pickle\n",
    "from sklearn.impute import SimpleImputer\n",
    "from sklearn.preprocessing import StandardScaler\n",
    "\n",
    "base = pd.read_csv('credit_data.csv')\n",
    "base.loc[base.age < 0, 'age'] = 40.92\n",
    "previsores = base.iloc[:, 1:4].values\n",
    "classe = base.iloc[:, 4].values\n",
    "\n",
    "imputer = SimpleImputer(missing_values = np.nan, strategy = 'mean')\n",
    "imputer = imputer.fit(previsores[:, 1:4])\n",
    "\n",
    "previsores[:, 1:4] = imputer.transform(previsores[:, 1:4])\n",
    "scaler = StandardScaler()\n",
    "previsores = scaler.fit_transform(previsores)"
   ]
  },
  {
   "cell_type": "code",
   "execution_count": 6,
   "metadata": {},
   "outputs": [],
   "source": [
    "svm = pickle.load(open('svm_finalizado.sav', 'rb'))\n",
    "random_forest = pickle.load(open('random_forest_finalizado.sav','rb'))\n",
    "mlp = pickle.load(open('mlp_finalizado.sav','rb'))"
   ]
  },
  {
   "cell_type": "code",
   "execution_count": 8,
   "metadata": {},
   "outputs": [
    {
     "output_type": "stream",
     "name": "stdout",
     "text": "SVM score:  0.989\nRandom Forest score:  1.0\nMLP score:  1.0\n"
    }
   ],
   "source": [
    "resultado_svm = svm.score(previsores, classe)\n",
    "resultado_rf = random_forest.score(previsores, classe)\n",
    "resultado_mlp = mlp.score(previsores, classe)\n",
    "print('SVM score: ', resultado_svm)\n",
    "print('Random Forest score: ', resultado_rf)\n",
    "print('MLP score: ', resultado_mlp)"
   ]
  },
  {
   "cell_type": "code",
   "execution_count": 13,
   "metadata": {},
   "outputs": [
    {
     "output_type": "stream",
     "name": "stdout",
     "text": "[0] [0] [0]\n"
    }
   ],
   "source": [
    "novo_registro = [[5000, 40, 5000]]\n",
    "novo_registro = np.asarray(novo_registro)\n",
    "novo_registro = novo_registro.reshape(-1,1)\n",
    "novo_registro = scaler.fit_transform(novo_registro)\n",
    "novo_registro = novo_registro.reshape(-1,3)\n",
    "\n",
    "resposta_svm = svm.predict(novo_registro)\n",
    "resposta_random_forest = random_forest.predict(novo_registro)\n",
    "resposta_mlp = mlp.predict(novo_registro)\n",
    "print(resposta_svm, resposta_random_forest, resposta_mlp)"
   ]
  },
  {
   "cell_type": "code",
   "execution_count": null,
   "metadata": {},
   "outputs": [],
   "source": []
  }
 ],
 "metadata": {
  "language_info": {
   "codemirror_mode": {
    "name": "ipython",
    "version": 3
   },
   "file_extension": ".py",
   "mimetype": "text/x-python",
   "name": "python",
   "nbconvert_exporter": "python",
   "pygments_lexer": "ipython3",
   "version": "3.7.6-final"
  },
  "orig_nbformat": 2,
  "kernelspec": {
   "name": "python3",
   "display_name": "Python 3"
  }
 },
 "nbformat": 4,
 "nbformat_minor": 2
}